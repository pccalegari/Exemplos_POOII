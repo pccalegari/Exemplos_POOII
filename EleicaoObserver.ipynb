{
  "nbformat": 4,
  "nbformat_minor": 0,
  "metadata": {
    "colab": {
      "provenance": [],
      "mount_file_id": "1IaVA5PWLS-pr8n7sqivzCrCZktRJvfHy",
      "authorship_tag": "ABX9TyO2lPB8FErutqyAJDEFXM/9",
      "include_colab_link": true
    },
    "kernelspec": {
      "name": "python3",
      "display_name": "Python 3"
    },
    "language_info": {
      "name": "python"
    }
  },
  "cells": [
    {
      "cell_type": "markdown",
      "metadata": {
        "id": "view-in-github",
        "colab_type": "text"
      },
      "source": [
        "<a href=\"https://colab.research.google.com/github/pccalegari/Exemplos_POOII/blob/main/EleicaoObserver.ipynb\" target=\"_parent\"><img src=\"https://colab.research.google.com/assets/colab-badge.svg\" alt=\"Open In Colab\"/></a>"
      ]
    },
    {
      "cell_type": "markdown",
      "source": [
        "\n",
        "Exemplo padrão Observer:\n"
      ],
      "metadata": {
        "id": "xiGx2hUBwh3I"
      }
    },
    {
      "cell_type": "code",
      "execution_count": 55,
      "metadata": {
        "id": "hnrOtt4BwhWc",
        "colab": {
          "base_uri": "https://localhost:8080/"
        },
        "outputId": "0b9c3c34-1131-44e5-cdb0-5407d5e65eaf"
      },
      "outputs": [
        {
          "output_type": "stream",
          "name": "stdout",
          "text": [
            "\n",
            "Primeira mudança de estado:\n",
            "\t Tabela:\n",
            "\t Grafico: \n",
            "{'A': 110, 'B': 31, 'C': 77}\n",
            "\n",
            "Segunda mudança de estado:\n",
            "\t Tabela:\n",
            "\t Grafico: \n",
            "\t Relatorio: \n",
            "{'A': 207, 'B': 132, 'C': 174}\n"
          ]
        }
      ],
      "source": [
        "import matplotlib.pyplot as plt\n",
        "\n",
        "class ApuradorSubject(object):\n",
        "\n",
        "    def __init__(self):\n",
        "\n",
        "        self.resultado = {}\n",
        "        self.observers = []\n",
        "\n",
        "    def le_arquivo(self, nome_arquivo):\n",
        "        valores = []\n",
        "        with open(nome_arquivo, 'r', encoding = 'utf8') as arq:\n",
        "            for linha in arq:\n",
        "                valores.append(linha.split())\n",
        "        return valores\n",
        "\n",
        "    def adiciona_candidato(self, votos):\n",
        "        for i in range(len(votos)):\n",
        "            self.resultado[votos[i][0]] = 0\n",
        "\n",
        "    def atualiza_resultado(self, votos):\n",
        "        for i in range(len(votos)):\n",
        "            self.resultado[votos[i][0]] += int(votos[i][1])\n",
        "        self.notify_observers()\n",
        "\n",
        "    def register(self, observer):\n",
        "        self.observers.append(observer)\n",
        "\n",
        "    def deregister(self, observer):\n",
        "        self.observers.remove(observer)\n",
        "\n",
        "    def notify_observers(self):\n",
        "\n",
        "        for observer in self.observers:\n",
        "            observer.update()\n",
        "\n",
        "class Observer(object):\n",
        "    \"\"\"\n",
        "    Classe abstrata reponsável pela mudanças no estado do sujeito\n",
        "    \"\"\"\n",
        "    def update(self):\n",
        "        \"\"\"\n",
        "        Atualiza o estado do observador\n",
        "        \"\"\"\n",
        "        raise NotImplementedError(\"update() não é implementado aqui.\")\n",
        "\n",
        "class TableObserver(Observer):\n",
        "    def __init__(self, subject):\n",
        "        self.subject = subject\n",
        "        self.subject.register(self)\n",
        "\n",
        "    def update(self):\n",
        "        print(\"\\t Tabela:\")\n",
        "\n",
        "\n",
        "class GraficoObserver(Observer):\n",
        "\n",
        "    def __init__(self, subject):\n",
        "        self.subject = subject\n",
        "        self.subject.register(self)\n",
        "\n",
        "    def update(self):\n",
        "        print(\"\\t Grafico: \")\n",
        "\n",
        "\n",
        "class RelatorioObserver(Observer):\n",
        "\n",
        "    def __init__(self, subject):\n",
        "        self.subject = subject\n",
        "        self.subject.register(self)\n",
        "\n",
        "    def update(self):\n",
        "        soma = 0\n",
        "        for key in self.subject.resultado:\n",
        "            soma += self.subject.resultado[key]\n",
        "        if soma > 300:\n",
        "            print(\"\\t Relatorio: \")\n",
        "\n",
        "def main():\n",
        "    \"\"\"\n",
        "    Teste do Padrao Observer\n",
        "    \"\"\"\n",
        "    subject = ApuradorSubject()\n",
        "\n",
        "    TableObserver(subject)\n",
        "    GraficoObserver(subject)\n",
        "    RelatorioObserver(subject)\n",
        "\n",
        "    r1 = subject.le_arquivo(\"regiao1.txt\")\n",
        "    subject.adiciona_candidato(r1)\n",
        "\n",
        "    print(\"\\nPrimeira mudança de estado:\")\n",
        "    subject.atualiza_resultado(r1)\n",
        "    print(subject.resultado)\n",
        "\n",
        "    r2 = subject.le_arquivo(\"regiao2.txt\")\n",
        "    print(\"\\nSegunda mudança de estado:\")\n",
        "    subject.atualiza_resultado(r2)\n",
        "    print(subject.resultado)\n",
        "\n",
        "if __name__ == \"__main__\":\n",
        "    main()\n",
        "\n",
        "\n",
        "\n"
      ]
    }
  ]
}