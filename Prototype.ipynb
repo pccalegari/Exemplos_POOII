{
  "nbformat": 4,
  "nbformat_minor": 0,
  "metadata": {
    "colab": {
      "provenance": [],
      "authorship_tag": "ABX9TyMWoO3TOlFhKzFr+bPvVUE5",
      "include_colab_link": true
    },
    "kernelspec": {
      "name": "python3",
      "display_name": "Python 3"
    },
    "language_info": {
      "name": "python"
    }
  },
  "cells": [
    {
      "cell_type": "markdown",
      "metadata": {
        "id": "view-in-github",
        "colab_type": "text"
      },
      "source": [
        "<a href=\"https://colab.research.google.com/github/pccalegari/Exemplos_POOII/blob/main/Prototype.ipynb\" target=\"_parent\"><img src=\"https://colab.research.google.com/assets/colab-badge.svg\" alt=\"Open In Colab\"/></a>"
      ]
    },
    {
      "cell_type": "markdown",
      "source": [
        "Exemplo: Prototype"
      ],
      "metadata": {
        "id": "jw5kFHx51xK0"
      }
    },
    {
      "cell_type": "code",
      "execution_count": null,
      "metadata": {
        "colab": {
          "base_uri": "https://localhost:8080/"
        },
        "id": "F6I_sB4y1whE",
        "outputId": "dd28fc42-a3a2-4c0f-e562-57bf81f91930"
      },
      "outputs": [
        {
          "output_type": "stream",
          "name": "stdout",
          "text": [
            "Iniciando a Fabrica de elementos: Levou 2.75 segundos\n",
            "Criando um Cauboi\n",
            "Levou 5.626678466796875e-05 segundos\n",
            "Criando outro Cauboi\n",
            "Levou 1.4781951904296875e-05 segundos\n",
            "Modificando os caubóis para ver que são instâncias diferentes\n",
            "O caubói 1 chama: Mau e o caubói 2: Feio.\n"
          ]
        }
      ],
      "source": [
        "# Exemplo apresentado pelo https://gitlab.com/ccsl-usp/LabPOO\n",
        "# Exemplo do padrão Prototype\n",
        "\n",
        "from copy import deepcopy\n",
        "from time import sleep, time\n",
        "\n",
        "\n",
        "# Familia de Produtos do tema Faroeste\n",
        "class Cavalo:\n",
        "    def __init__(self):\n",
        "        sleep(1)  # simula uma computação complexa para a criação do objeto\n",
        "\n",
        "    def movimentar(self):\n",
        "        print(\"Pocotó, Pocotó, Pocotó...\")\n",
        "\n",
        "\n",
        "class Cauboi:\n",
        "    def __init__(self):\n",
        "        sleep(1.5)  # simula uma computação complexa para a criação do objeto\n",
        "\n",
        "    def falar(self):\n",
        "        print('Irráaa')\n",
        "\n",
        "\n",
        "class Revolver:\n",
        "    def __init__(self):\n",
        "        sleep(0.25)  # simula uma computação complexa para a criação do objeto\n",
        "\n",
        "    def atirar(self):\n",
        "        print('Pow!')\n",
        "\n",
        "\n",
        "class Faroeste:\n",
        "    def __init__(self):\n",
        "        self.itens = {\n",
        "            'cavalo': Cavalo(),\n",
        "            'cauboi': Cauboi(),\n",
        "            'arma': Revolver()\n",
        "        }\n",
        "\n",
        "    def criar(self, item):\n",
        "        return deepcopy(self.itens[item])\n",
        "\n",
        "\n",
        "if __name__ == '__main__':\n",
        "    # Iniciliza o Jogo com o cenario escolhido\n",
        "    print(\"Iniciando a Fabrica de elementos:\", end=' ')\n",
        "    start = time()\n",
        "    cenario = Faroeste()\n",
        "    print(f'Levou {time() - start:.2f} segundos')\n",
        "\n",
        "    print('Criando um Cauboi')\n",
        "    start = time()\n",
        "    cauboi1 = cenario.criar('cauboi')\n",
        "    print(f'Levou {time() - start} segundos')\n",
        "\n",
        "    print('Criando outro Cauboi')\n",
        "    start = time()\n",
        "    cauboi2 = cenario.criar('cauboi')\n",
        "    print(f'Levou {time() - start} segundos')\n",
        "    print('Modificando os caubóis para ver que são instâncias diferentes')\n",
        "    cauboi1.nome = 'Mau'\n",
        "    cauboi2.nome = 'Feio'\n",
        "    print(f'O caubói 1 chama: {cauboi1.nome} e o caubói 2: {cauboi2.nome}.')"
      ]
    }
  ]
}